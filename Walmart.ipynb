{
  "nbformat": 4,
  "nbformat_minor": 0,
  "metadata": {
    "colab": {
      "provenance": [],
      "toc_visible": true,
      "authorship_tag": "ABX9TyPOmZosTFn2rE4WThRKPwvk",
      "include_colab_link": true
    },
    "kernelspec": {
      "name": "python3",
      "display_name": "Python 3"
    },
    "language_info": {
      "name": "python"
    }
  },
  "cells": [
    {
      "cell_type": "markdown",
      "metadata": {
        "id": "view-in-github",
        "colab_type": "text"
      },
      "source": [
        "<a href=\"https://colab.research.google.com/github/kinghim17/Walmart-/blob/main/Walmart.ipynb\" target=\"_parent\"><img src=\"https://colab.research.google.com/assets/colab-badge.svg\" alt=\"Open In Colab\"/></a>"
      ]
    },
    {
      "cell_type": "markdown",
      "source": [
        "# Walmart Sales Analysis"
      ],
      "metadata": {
        "id": "OvHraN9vifzm"
      }
    },
    {
      "cell_type": "markdown",
      "source": [
        "## Importing the libraries"
      ],
      "metadata": {
        "id": "Vi3gAv3Wiae7"
      }
    },
    {
      "cell_type": "code",
      "source": [
        "import pandas as pd\n",
        "import numpy as np\n",
        "import matplotlib.pyplot as plt\n",
        "import seaborn as sns"
      ],
      "metadata": {
        "id": "rIHcgq4qgNz9"
      },
      "execution_count": 5,
      "outputs": []
    },
    {
      "cell_type": "markdown",
      "source": [
        "## visualisation of dataset\n"
      ],
      "metadata": {
        "id": "A5-mZq-Vjr2I"
      }
    },
    {
      "cell_type": "code",
      "source": [
        "filep = 'Walmart_Sales_CB1799BACC.xlsx'\n",
        "df = pd.read_excel(filep)\n",
        "df.head()"
      ],
      "metadata": {
        "colab": {
          "base_uri": "https://localhost:8080/",
          "height": 226
        },
        "id": "G8YBDQqtg1_3",
        "outputId": "ec0a2dc3-ccbe-418a-a1a0-36dd2bac208f"
      },
      "execution_count": 31,
      "outputs": [
        {
          "output_type": "execute_result",
          "data": {
            "text/plain": [
              "    Invoice ID Branch       City Customer type  Gender  \\\n",
              "0  750-67-8428      A     Yangon        Member  Female   \n",
              "1  226-31-3081      A  Naypyitaw        Normal  Female   \n",
              "2  631-41-3108      A     Yangon        Normal    Male   \n",
              "3  123-19-1176      B     Yangon        Member    Male   \n",
              "4  373-73-7910      C     Yangon        Normal    Male   \n",
              "\n",
              "             Product line  Unit price  Quantity       Date      Time  \\\n",
              "0       Health and beauty       74.69         7   1/5/2019  13:08:00   \n",
              "1  Electronic accessories       15.28         5   3/8/2019  10:29:00   \n",
              "2      Home and lifestyle       46.33         7   3/3/2019  13:23:00   \n",
              "3       Health and beauty       58.22         8  1/27/2019  20:33:00   \n",
              "4       Sports and travel       86.31         7   2/8/2019  10:37:00   \n",
              "\n",
              "       Payment  Rating  \n",
              "0      Ewallet     9.1  \n",
              "1         Cash     9.6  \n",
              "2  Credit card     7.4  \n",
              "3      Ewallet     8.4  \n",
              "4      Ewallet     5.3  "
            ],
            "text/html": [
              "\n",
              "  <div id=\"df-c2c451aa-8b0f-4ba0-be72-a6fe890e8715\" class=\"colab-df-container\">\n",
              "    <div>\n",
              "<style scoped>\n",
              "    .dataframe tbody tr th:only-of-type {\n",
              "        vertical-align: middle;\n",
              "    }\n",
              "\n",
              "    .dataframe tbody tr th {\n",
              "        vertical-align: top;\n",
              "    }\n",
              "\n",
              "    .dataframe thead th {\n",
              "        text-align: right;\n",
              "    }\n",
              "</style>\n",
              "<table border=\"1\" class=\"dataframe\">\n",
              "  <thead>\n",
              "    <tr style=\"text-align: right;\">\n",
              "      <th></th>\n",
              "      <th>Invoice ID</th>\n",
              "      <th>Branch</th>\n",
              "      <th>City</th>\n",
              "      <th>Customer type</th>\n",
              "      <th>Gender</th>\n",
              "      <th>Product line</th>\n",
              "      <th>Unit price</th>\n",
              "      <th>Quantity</th>\n",
              "      <th>Date</th>\n",
              "      <th>Time</th>\n",
              "      <th>Payment</th>\n",
              "      <th>Rating</th>\n",
              "    </tr>\n",
              "  </thead>\n",
              "  <tbody>\n",
              "    <tr>\n",
              "      <th>0</th>\n",
              "      <td>750-67-8428</td>\n",
              "      <td>A</td>\n",
              "      <td>Yangon</td>\n",
              "      <td>Member</td>\n",
              "      <td>Female</td>\n",
              "      <td>Health and beauty</td>\n",
              "      <td>74.69</td>\n",
              "      <td>7</td>\n",
              "      <td>1/5/2019</td>\n",
              "      <td>13:08:00</td>\n",
              "      <td>Ewallet</td>\n",
              "      <td>9.1</td>\n",
              "    </tr>\n",
              "    <tr>\n",
              "      <th>1</th>\n",
              "      <td>226-31-3081</td>\n",
              "      <td>A</td>\n",
              "      <td>Naypyitaw</td>\n",
              "      <td>Normal</td>\n",
              "      <td>Female</td>\n",
              "      <td>Electronic accessories</td>\n",
              "      <td>15.28</td>\n",
              "      <td>5</td>\n",
              "      <td>3/8/2019</td>\n",
              "      <td>10:29:00</td>\n",
              "      <td>Cash</td>\n",
              "      <td>9.6</td>\n",
              "    </tr>\n",
              "    <tr>\n",
              "      <th>2</th>\n",
              "      <td>631-41-3108</td>\n",
              "      <td>A</td>\n",
              "      <td>Yangon</td>\n",
              "      <td>Normal</td>\n",
              "      <td>Male</td>\n",
              "      <td>Home and lifestyle</td>\n",
              "      <td>46.33</td>\n",
              "      <td>7</td>\n",
              "      <td>3/3/2019</td>\n",
              "      <td>13:23:00</td>\n",
              "      <td>Credit card</td>\n",
              "      <td>7.4</td>\n",
              "    </tr>\n",
              "    <tr>\n",
              "      <th>3</th>\n",
              "      <td>123-19-1176</td>\n",
              "      <td>B</td>\n",
              "      <td>Yangon</td>\n",
              "      <td>Member</td>\n",
              "      <td>Male</td>\n",
              "      <td>Health and beauty</td>\n",
              "      <td>58.22</td>\n",
              "      <td>8</td>\n",
              "      <td>1/27/2019</td>\n",
              "      <td>20:33:00</td>\n",
              "      <td>Ewallet</td>\n",
              "      <td>8.4</td>\n",
              "    </tr>\n",
              "    <tr>\n",
              "      <th>4</th>\n",
              "      <td>373-73-7910</td>\n",
              "      <td>C</td>\n",
              "      <td>Yangon</td>\n",
              "      <td>Normal</td>\n",
              "      <td>Male</td>\n",
              "      <td>Sports and travel</td>\n",
              "      <td>86.31</td>\n",
              "      <td>7</td>\n",
              "      <td>2/8/2019</td>\n",
              "      <td>10:37:00</td>\n",
              "      <td>Ewallet</td>\n",
              "      <td>5.3</td>\n",
              "    </tr>\n",
              "  </tbody>\n",
              "</table>\n",
              "</div>\n",
              "    <div class=\"colab-df-buttons\">\n",
              "\n",
              "  <div class=\"colab-df-container\">\n",
              "    <button class=\"colab-df-convert\" onclick=\"convertToInteractive('df-c2c451aa-8b0f-4ba0-be72-a6fe890e8715')\"\n",
              "            title=\"Convert this dataframe to an interactive table.\"\n",
              "            style=\"display:none;\">\n",
              "\n",
              "  <svg xmlns=\"http://www.w3.org/2000/svg\" height=\"24px\" viewBox=\"0 -960 960 960\">\n",
              "    <path d=\"M120-120v-720h720v720H120Zm60-500h600v-160H180v160Zm220 220h160v-160H400v160Zm0 220h160v-160H400v160ZM180-400h160v-160H180v160Zm440 0h160v-160H620v160ZM180-180h160v-160H180v160Zm440 0h160v-160H620v160Z\"/>\n",
              "  </svg>\n",
              "    </button>\n",
              "\n",
              "  <style>\n",
              "    .colab-df-container {\n",
              "      display:flex;\n",
              "      gap: 12px;\n",
              "    }\n",
              "\n",
              "    .colab-df-convert {\n",
              "      background-color: #E8F0FE;\n",
              "      border: none;\n",
              "      border-radius: 50%;\n",
              "      cursor: pointer;\n",
              "      display: none;\n",
              "      fill: #1967D2;\n",
              "      height: 32px;\n",
              "      padding: 0 0 0 0;\n",
              "      width: 32px;\n",
              "    }\n",
              "\n",
              "    .colab-df-convert:hover {\n",
              "      background-color: #E2EBFA;\n",
              "      box-shadow: 0px 1px 2px rgba(60, 64, 67, 0.3), 0px 1px 3px 1px rgba(60, 64, 67, 0.15);\n",
              "      fill: #174EA6;\n",
              "    }\n",
              "\n",
              "    .colab-df-buttons div {\n",
              "      margin-bottom: 4px;\n",
              "    }\n",
              "\n",
              "    [theme=dark] .colab-df-convert {\n",
              "      background-color: #3B4455;\n",
              "      fill: #D2E3FC;\n",
              "    }\n",
              "\n",
              "    [theme=dark] .colab-df-convert:hover {\n",
              "      background-color: #434B5C;\n",
              "      box-shadow: 0px 1px 3px 1px rgba(0, 0, 0, 0.15);\n",
              "      filter: drop-shadow(0px 1px 2px rgba(0, 0, 0, 0.3));\n",
              "      fill: #FFFFFF;\n",
              "    }\n",
              "  </style>\n",
              "\n",
              "    <script>\n",
              "      const buttonEl =\n",
              "        document.querySelector('#df-c2c451aa-8b0f-4ba0-be72-a6fe890e8715 button.colab-df-convert');\n",
              "      buttonEl.style.display =\n",
              "        google.colab.kernel.accessAllowed ? 'block' : 'none';\n",
              "\n",
              "      async function convertToInteractive(key) {\n",
              "        const element = document.querySelector('#df-c2c451aa-8b0f-4ba0-be72-a6fe890e8715');\n",
              "        const dataTable =\n",
              "          await google.colab.kernel.invokeFunction('convertToInteractive',\n",
              "                                                    [key], {});\n",
              "        if (!dataTable) return;\n",
              "\n",
              "        const docLinkHtml = 'Like what you see? Visit the ' +\n",
              "          '<a target=\"_blank\" href=https://colab.research.google.com/notebooks/data_table.ipynb>data table notebook</a>'\n",
              "          + ' to learn more about interactive tables.';\n",
              "        element.innerHTML = '';\n",
              "        dataTable['output_type'] = 'display_data';\n",
              "        await google.colab.output.renderOutput(dataTable, element);\n",
              "        const docLink = document.createElement('div');\n",
              "        docLink.innerHTML = docLinkHtml;\n",
              "        element.appendChild(docLink);\n",
              "      }\n",
              "    </script>\n",
              "  </div>\n",
              "\n",
              "\n",
              "<div id=\"df-dfbede16-ac24-40d8-80b6-6ce57e8296d5\">\n",
              "  <button class=\"colab-df-quickchart\" onclick=\"quickchart('df-dfbede16-ac24-40d8-80b6-6ce57e8296d5')\"\n",
              "            title=\"Suggest charts\"\n",
              "            style=\"display:none;\">\n",
              "\n",
              "<svg xmlns=\"http://www.w3.org/2000/svg\" height=\"24px\"viewBox=\"0 0 24 24\"\n",
              "     width=\"24px\">\n",
              "    <g>\n",
              "        <path d=\"M19 3H5c-1.1 0-2 .9-2 2v14c0 1.1.9 2 2 2h14c1.1 0 2-.9 2-2V5c0-1.1-.9-2-2-2zM9 17H7v-7h2v7zm4 0h-2V7h2v10zm4 0h-2v-4h2v4z\"/>\n",
              "    </g>\n",
              "</svg>\n",
              "  </button>\n",
              "\n",
              "<style>\n",
              "  .colab-df-quickchart {\n",
              "      --bg-color: #E8F0FE;\n",
              "      --fill-color: #1967D2;\n",
              "      --hover-bg-color: #E2EBFA;\n",
              "      --hover-fill-color: #174EA6;\n",
              "      --disabled-fill-color: #AAA;\n",
              "      --disabled-bg-color: #DDD;\n",
              "  }\n",
              "\n",
              "  [theme=dark] .colab-df-quickchart {\n",
              "      --bg-color: #3B4455;\n",
              "      --fill-color: #D2E3FC;\n",
              "      --hover-bg-color: #434B5C;\n",
              "      --hover-fill-color: #FFFFFF;\n",
              "      --disabled-bg-color: #3B4455;\n",
              "      --disabled-fill-color: #666;\n",
              "  }\n",
              "\n",
              "  .colab-df-quickchart {\n",
              "    background-color: var(--bg-color);\n",
              "    border: none;\n",
              "    border-radius: 50%;\n",
              "    cursor: pointer;\n",
              "    display: none;\n",
              "    fill: var(--fill-color);\n",
              "    height: 32px;\n",
              "    padding: 0;\n",
              "    width: 32px;\n",
              "  }\n",
              "\n",
              "  .colab-df-quickchart:hover {\n",
              "    background-color: var(--hover-bg-color);\n",
              "    box-shadow: 0 1px 2px rgba(60, 64, 67, 0.3), 0 1px 3px 1px rgba(60, 64, 67, 0.15);\n",
              "    fill: var(--button-hover-fill-color);\n",
              "  }\n",
              "\n",
              "  .colab-df-quickchart-complete:disabled,\n",
              "  .colab-df-quickchart-complete:disabled:hover {\n",
              "    background-color: var(--disabled-bg-color);\n",
              "    fill: var(--disabled-fill-color);\n",
              "    box-shadow: none;\n",
              "  }\n",
              "\n",
              "  .colab-df-spinner {\n",
              "    border: 2px solid var(--fill-color);\n",
              "    border-color: transparent;\n",
              "    border-bottom-color: var(--fill-color);\n",
              "    animation:\n",
              "      spin 1s steps(1) infinite;\n",
              "  }\n",
              "\n",
              "  @keyframes spin {\n",
              "    0% {\n",
              "      border-color: transparent;\n",
              "      border-bottom-color: var(--fill-color);\n",
              "      border-left-color: var(--fill-color);\n",
              "    }\n",
              "    20% {\n",
              "      border-color: transparent;\n",
              "      border-left-color: var(--fill-color);\n",
              "      border-top-color: var(--fill-color);\n",
              "    }\n",
              "    30% {\n",
              "      border-color: transparent;\n",
              "      border-left-color: var(--fill-color);\n",
              "      border-top-color: var(--fill-color);\n",
              "      border-right-color: var(--fill-color);\n",
              "    }\n",
              "    40% {\n",
              "      border-color: transparent;\n",
              "      border-right-color: var(--fill-color);\n",
              "      border-top-color: var(--fill-color);\n",
              "    }\n",
              "    60% {\n",
              "      border-color: transparent;\n",
              "      border-right-color: var(--fill-color);\n",
              "    }\n",
              "    80% {\n",
              "      border-color: transparent;\n",
              "      border-right-color: var(--fill-color);\n",
              "      border-bottom-color: var(--fill-color);\n",
              "    }\n",
              "    90% {\n",
              "      border-color: transparent;\n",
              "      border-bottom-color: var(--fill-color);\n",
              "    }\n",
              "  }\n",
              "</style>\n",
              "\n",
              "  <script>\n",
              "    async function quickchart(key) {\n",
              "      const quickchartButtonEl =\n",
              "        document.querySelector('#' + key + ' button');\n",
              "      quickchartButtonEl.disabled = true;  // To prevent multiple clicks.\n",
              "      quickchartButtonEl.classList.add('colab-df-spinner');\n",
              "      try {\n",
              "        const charts = await google.colab.kernel.invokeFunction(\n",
              "            'suggestCharts', [key], {});\n",
              "      } catch (error) {\n",
              "        console.error('Error during call to suggestCharts:', error);\n",
              "      }\n",
              "      quickchartButtonEl.classList.remove('colab-df-spinner');\n",
              "      quickchartButtonEl.classList.add('colab-df-quickchart-complete');\n",
              "    }\n",
              "    (() => {\n",
              "      let quickchartButtonEl =\n",
              "        document.querySelector('#df-dfbede16-ac24-40d8-80b6-6ce57e8296d5 button');\n",
              "      quickchartButtonEl.style.display =\n",
              "        google.colab.kernel.accessAllowed ? 'block' : 'none';\n",
              "    })();\n",
              "  </script>\n",
              "</div>\n",
              "\n",
              "    </div>\n",
              "  </div>\n"
            ],
            "application/vnd.google.colaboratory.intrinsic+json": {
              "type": "dataframe",
              "variable_name": "df",
              "summary": "{\n  \"name\": \"df\",\n  \"rows\": 1000,\n  \"fields\": [\n    {\n      \"column\": \"Invoice ID\",\n      \"properties\": {\n        \"dtype\": \"string\",\n        \"num_unique_values\": 1000,\n        \"samples\": [\n          \"451-28-5717\",\n          \"137-63-5492\",\n          \"733-29-1227\"\n        ],\n        \"semantic_type\": \"\",\n        \"description\": \"\"\n      }\n    },\n    {\n      \"column\": \"Branch\",\n      \"properties\": {\n        \"dtype\": \"category\",\n        \"num_unique_values\": 3,\n        \"samples\": [\n          \"A\",\n          \"B\",\n          \"C\"\n        ],\n        \"semantic_type\": \"\",\n        \"description\": \"\"\n      }\n    },\n    {\n      \"column\": \"City\",\n      \"properties\": {\n        \"dtype\": \"category\",\n        \"num_unique_values\": 3,\n        \"samples\": [\n          \"Yangon\",\n          \"Naypyitaw\",\n          \"Mandalay\"\n        ],\n        \"semantic_type\": \"\",\n        \"description\": \"\"\n      }\n    },\n    {\n      \"column\": \"Customer type\",\n      \"properties\": {\n        \"dtype\": \"category\",\n        \"num_unique_values\": 2,\n        \"samples\": [\n          \"Normal\",\n          \"Member\"\n        ],\n        \"semantic_type\": \"\",\n        \"description\": \"\"\n      }\n    },\n    {\n      \"column\": \"Gender\",\n      \"properties\": {\n        \"dtype\": \"category\",\n        \"num_unique_values\": 2,\n        \"samples\": [\n          \"Male\",\n          \"Female\"\n        ],\n        \"semantic_type\": \"\",\n        \"description\": \"\"\n      }\n    },\n    {\n      \"column\": \"Product line\",\n      \"properties\": {\n        \"dtype\": \"category\",\n        \"num_unique_values\": 6,\n        \"samples\": [\n          \"Health and beauty\",\n          \"Electronic accessories\"\n        ],\n        \"semantic_type\": \"\",\n        \"description\": \"\"\n      }\n    },\n    {\n      \"column\": \"Unit price\",\n      \"properties\": {\n        \"dtype\": \"number\",\n        \"std\": 26.49462834791978,\n        \"min\": 10.08,\n        \"max\": 99.96,\n        \"num_unique_values\": 943,\n        \"samples\": [\n          12.45,\n          70.74\n        ],\n        \"semantic_type\": \"\",\n        \"description\": \"\"\n      }\n    },\n    {\n      \"column\": \"Quantity\",\n      \"properties\": {\n        \"dtype\": \"number\",\n        \"std\": 2,\n        \"min\": 1,\n        \"max\": 10,\n        \"num_unique_values\": 10,\n        \"samples\": [\n          1,\n          5\n        ],\n        \"semantic_type\": \"\",\n        \"description\": \"\"\n      }\n    },\n    {\n      \"column\": \"Date\",\n      \"properties\": {\n        \"dtype\": \"object\",\n        \"num_unique_values\": 89,\n        \"samples\": [\n          \"2/14/2019\",\n          \"1/26/2019\"\n        ],\n        \"semantic_type\": \"\",\n        \"description\": \"\"\n      }\n    },\n    {\n      \"column\": \"Time\",\n      \"properties\": {\n        \"dtype\": \"string\",\n        \"num_unique_values\": 506,\n        \"samples\": [\n          \"10:13:00\",\n          \"11:21:00\"\n        ],\n        \"semantic_type\": \"\",\n        \"description\": \"\"\n      }\n    },\n    {\n      \"column\": \"Payment\",\n      \"properties\": {\n        \"dtype\": \"category\",\n        \"num_unique_values\": 3,\n        \"samples\": [\n          \"Ewallet\",\n          \"Cash\"\n        ],\n        \"semantic_type\": \"\",\n        \"description\": \"\"\n      }\n    },\n    {\n      \"column\": \"Rating\",\n      \"properties\": {\n        \"dtype\": \"number\",\n        \"std\": 1.7185802943791215,\n        \"min\": 4.0,\n        \"max\": 10.0,\n        \"num_unique_values\": 61,\n        \"samples\": [\n          9.1,\n          4.1\n        ],\n        \"semantic_type\": \"\",\n        \"description\": \"\"\n      }\n    }\n  ]\n}"
            }
          },
          "metadata": {},
          "execution_count": 31
        }
      ]
    },
    {
      "cell_type": "markdown",
      "source": [
        "## visualisation of customer type"
      ],
      "metadata": {
        "id": "ieGGLhZ6jPIy"
      }
    },
    {
      "source": [
        "from matplotlib import pyplot as plt\n",
        "import seaborn as sns\n",
        "df.groupby('Customer type').size().plot(kind='barh', color=sns.palettes.mpl_palette('Dark2'))\n",
        "plt.gca().spines[['top', 'right',]].set_visible(False)"
      ],
      "cell_type": "code",
      "execution_count": 32,
      "outputs": [
        {
          "output_type": "display_data",
          "data": {
            "text/plain": [
              "<Figure size 640x480 with 1 Axes>"
            ],
            "image/png": "[encoded data removed]"
          },
          "metadata": {}
        }
      ],
      "metadata": {
        "colab": {
          "base_uri": "https://localhost:8080/",
          "height": 450
        },
        "id": "ZNuJ68VdjCo6",
        "outputId": "06936fb7-4ca8-4c83-de46-83e7226e3f95"
      }
    },
    {
      "cell_type": "markdown",
      "source": [
        "##  Visulisation of Gender ratio"
      ],
      "metadata": {
        "id": "yBJkVuCHizcp"
      }
    },
    {
      "source": [
        "from matplotlib import pyplot as plt\n",
        "import seaborn as sns\n",
        "df.groupby('Gender').size().plot(kind='barh', color=sns.palettes.mpl_palette('Dark2'))\n",
        "plt.gca().spines[['top', 'right',]].set_visible(False)"
      ],
      "cell_type": "code",
      "execution_count": 33,
      "outputs": [
        {
          "output_type": "display_data",
          "data": {
            "text/plain": [
              "<Figure size 640x480 with 1 Axes>"
            ],
            "image/png": "[encoded data removed]"
          },
          "metadata": {}
        }
      ],
      "metadata": {
        "colab": {
          "base_uri": "https://localhost:8080/",
          "height": 450
        },
        "id": "o1mm011FixV6",
        "outputId": "52ef6eff-3a74-40fb-e3f5-5c0c44220a9f"
      }
    },
    {
      "cell_type": "markdown",
      "source": [
        "## Visualisation of city by sales"
      ],
      "metadata": {
        "id": "U2RaNG4Picl1"
      }
    },
    {
      "source": [
        "from matplotlib import pyplot as plt\n",
        "import seaborn as sns\n",
        "df.groupby('City').size().plot(kind='barh', color=sns.palettes.mpl_palette('Dark2'))\n",
        "plt.gca().spines[['top', 'right',]].set_visible(False)"
      ],
      "cell_type": "code",
      "execution_count": 34,
      "outputs": [
        {
          "output_type": "display_data",
          "data": {
            "text/plain": [
              "<Figure size 640x480 with 1 Axes>"
            ],
            "image/png": "[encoded data removed]"
          },
          "metadata": {}
        }
      ],
      "metadata": {
        "colab": {
          "base_uri": "https://localhost:8080/",
          "height": 450
        },
        "id": "xRt3K3axiYed",
        "outputId": "2dc9edab-61e2-4296-8ea1-dc656fa9563a"
      }
    },
    {
      "cell_type": "markdown",
      "source": [
        "## visualisation unit price"
      ],
      "metadata": {
        "id": "nqsS82YRh149"
      }
    },
    {
      "source": [
        "from matplotlib import pyplot as plt\n",
        "df['Unit price'].plot(kind='hist', bins=20, title='Unit price')\n",
        "plt.gca().spines[['top', 'right',]].set_visible(False)"
      ],
      "cell_type": "code",
      "execution_count": 35,
      "outputs": [
        {
          "output_type": "display_data",
          "data": {
            "text/plain": [
              "<Figure size 640x480 with 1 Axes>"
            ],
            "image/png": "[encoded data removed]"
          },
          "metadata": {}
        }
      ],
      "metadata": {
        "colab": {
          "base_uri": "https://localhost:8080/",
          "height": 472
        },
        "id": "3QxYTnwUhl86",
        "outputId": "b55c64b9-f24e-4f72-80d7-217f0574efa3"
      }
    },
    {
      "cell_type": "markdown",
      "source": [
        "## visualisation of quantity\n"
      ],
      "metadata": {
        "id": "yyTkMkaXhxh1"
      }
    },
    {
      "source": [
        "from matplotlib import pyplot as plt\n",
        "df['Quantity'].plot(kind='hist', bins=20, title='Quantity')\n",
        "plt.gca().spines[['top', 'right',]].set_visible(False)"
      ],
      "cell_type": "code",
      "execution_count": 36,
      "outputs": [
        {
          "output_type": "display_data",
          "data": {
            "text/plain": [
              "<Figure size 640x480 with 1 Axes>"
            ],
            "image/png": "[encoded data removed]"
          },
          "metadata": {}
        }
      ],
      "metadata": {
        "colab": {
          "base_uri": "https://localhost:8080/",
          "height": 472
        },
        "id": "okzFa4HUhUag",
        "outputId": "78347c4c-9c47-466b-c578-1b2c8f99e31e"
      }
    },
    {
      "cell_type": "markdown",
      "source": [
        "# OPTION A"
      ],
      "metadata": {
        "id": "EJMABGP6rRQR"
      }
    },
    {
      "cell_type": "markdown",
      "source": [
        "##  Group by city and branch, sum sales and revenue"
      ],
      "metadata": {
        "id": "ic_pOnH-oyfY"
      }
    },
    {
      "cell_type": "code",
      "source": [
        "city_branch_performance = df.groupby(['City', 'Branch'])[['Quantity', 'Unit price']].sum().reset_index()\n",
        "\n",
        "print(city_branch_performance)"
      ],
      "metadata": {
        "colab": {
          "base_uri": "https://localhost:8080/"
        },
        "id": "tm2E1GuTo1sB",
        "outputId": "abb6aa53-f8c6-46fe-dbd5-104b1caa23b8"
      },
      "execution_count": 37,
      "outputs": [
        {
          "output_type": "stream",
          "name": "stdout",
          "text": [
            "        City Branch  Quantity  Unit price\n",
            "0   Mandalay      A       637     6349.11\n",
            "1   Mandalay      B       664     6623.73\n",
            "2   Mandalay      C       519     5506.04\n",
            "3  Naypyitaw      A       648     5953.55\n",
            "4  Naypyitaw      B       604     6298.64\n",
            "5  Naypyitaw      C       579     6315.57\n",
            "6     Yangon      A       598     6342.88\n",
            "7     Yangon      B       631     6329.25\n",
            "8     Yangon      C       630     5953.36\n"
          ]
        }
      ]
    },
    {
      "cell_type": "markdown",
      "source": [
        "# Option B"
      ],
      "metadata": {
        "id": "I0UWrBFSw39M"
      }
    },
    {
      "cell_type": "markdown",
      "source": [
        "## Group by branch and calculate the average price (option B)"
      ],
      "metadata": {
        "id": "GZNe4TAMrYKc"
      }
    },
    {
      "cell_type": "code",
      "source": [
        "avg_price_per_branch = df.groupby('Branch')['Unit price'].mean().reset_index()\n",
        "\n",
        "print(avg_price_per_branch)"
      ],
      "metadata": {
        "colab": {
          "base_uri": "https://localhost:8080/"
        },
        "id": "HuaXyJwPxD5w",
        "outputId": "93c8e990-3145-4603-a749-35deda07ba19"
      },
      "execution_count": 38,
      "outputs": [
        {
          "output_type": "stream",
          "name": "stdout",
          "text": [
            "  Branch  Unit price\n",
            "0      A   54.360175\n",
            "1      B   56.622412\n",
            "2      C   56.072461\n"
          ]
        }
      ]
    },
    {
      "cell_type": "markdown",
      "source": [
        "# option C"
      ],
      "metadata": {
        "id": "ZlOoMGxIrHg9"
      }
    },
    {
      "cell_type": "markdown",
      "source": [
        "## Ensure the Sale Date is in datetime format"
      ],
      "metadata": {
        "id": "VMUy9phSwTNo"
      }
    },
    {
      "cell_type": "code",
      "source": [
        "df['Date'] = pd.to_datetime(df['Date'])\n",
        "\n",
        "# Filter data for 2019\n",
        "df_2019 = df[df['Date'].dt.year == 2019]\n",
        "\n",
        "# Group by product line, gender, payment, and month\n",
        "sales_analysis = df_2019.groupby(['Product line', 'Gender', 'Payment', df_2019['Date'].dt.month])[['Quantity', 'Unit price']].sum().reset_index()\n",
        "\n",
        "# Display the result\n",
        "print(sales_analysis)"
      ],
      "metadata": {
        "colab": {
          "base_uri": "https://localhost:8080/"
        },
        "id": "eE2y9ZkIwU6M",
        "outputId": "6095a84f-3b5f-48d3-d6f0-5d5342a37169"
      },
      "execution_count": 39,
      "outputs": [
        {
          "output_type": "stream",
          "name": "stdout",
          "text": [
            "               Product line  Gender      Payment  Date  Quantity  Unit price\n",
            "0    Electronic accessories  Female         Cash     1        52      534.48\n",
            "1    Electronic accessories  Female         Cash     2       103      935.40\n",
            "2    Electronic accessories  Female         Cash     3        51      622.23\n",
            "3    Electronic accessories  Female  Credit card     1        54      371.20\n",
            "4    Electronic accessories  Female  Credit card     2        39      444.19\n",
            "..                      ...     ...          ...   ...       ...         ...\n",
            "103       Sports and travel    Male  Credit card     2        27      410.63\n",
            "104       Sports and travel    Male  Credit card     3        60      483.38\n",
            "105       Sports and travel    Male      Ewallet     1        38      466.37\n",
            "106       Sports and travel    Male      Ewallet     2        15      236.25\n",
            "107       Sports and travel    Male      Ewallet     3        86      804.95\n",
            "\n",
            "[108 rows x 6 columns]\n"
          ]
        }
      ]
    },
    {
      "cell_type": "markdown",
      "source": [
        "## Display"
      ],
      "metadata": {
        "id": "pCH9Bph01dom"
      }
    },
    {
      "cell_type": "code",
      "source": [
        "# Example: Plot total sales by month for each product line\n",
        "sales_analysis.groupby('Date')['Quantity'].sum().plot(kind='line')\n",
        "plt.title('Month-over-Month Sales in 2019')\n",
        "plt.xlabel('Month')\n",
        "plt.ylabel('Total Sales')\n",
        "plt.show()"
      ],
      "metadata": {
        "colab": {
          "base_uri": "https://localhost:8080/",
          "height": 492
        },
        "id": "NyIOZzFM1f7E",
        "outputId": "c78585b8-4f04-473c-cd8c-934ffce55190"
      },
      "execution_count": 40,
      "outputs": [
        {
          "output_type": "display_data",
          "data": {
            "text/plain": [
              "<Figure size 640x480 with 1 Axes>"
            ],
            "image/png": "[encoded data removed]"
          },
          "metadata": {}
        }
      ]
    },
    {
      "cell_type": "markdown",
      "source": [
        "# OPTION-C(continued)"
      ],
      "metadata": {
        "id": "qnSfGIX5qlbd"
      }
    },
    {
      "cell_type": "markdown",
      "source": [
        "## Total sales in january by product"
      ],
      "metadata": {
        "id": "ZLczEwi-lxQq"
      }
    },
    {
      "cell_type": "code",
      "source": [
        "\n",
        "# Ensure 'Date' column is in datetime format\n",
        "df['Date'] = pd.to_datetime(df['Date'])\n",
        "\n",
        "# Filter data for january 2019\n",
        "df_jan_2019 = df[(df['Date'].dt.year == 2019) & (df['Date'].dt.month == 1)]\n",
        "\n",
        "# Group by product line, gender, payment, and month\n",
        "sales_analysis = df_jan_2019.groupby(['Product line', 'Gender', 'Payment', df_jan_2019['Date'].dt.month])[['Quantity', 'Unit price']].sum().reset_index()\n",
        "\n",
        "# for product line sums\n",
        "product_line_sums_jan_2019 = df_jan_2019.groupby(['Product line','Gender'])[['Quantity', 'Unit price']].sum().reset_index()\n",
        "product_line_sums_jan1_2019 = df_jan_2019.groupby('Product line')[['Quantity', 'Unit price']].sum().reset_index()\n",
        "# Display the result\n",
        "print(product_line_sums_jan_2019)\n",
        "print(product_line_sums_jan1_2019)"
      ],
      "metadata": {
        "colab": {
          "base_uri": "https://localhost:8080/"
        },
        "id": "0kXjAK9Qkhu7",
        "outputId": "21f3632f-14f3-40fc-cf37-789e4b40444d"
      },
      "execution_count": 63,
      "outputs": [
        {
          "output_type": "stream",
          "name": "stdout",
          "text": [
            "              Product line  Gender  Quantity  Unit price\n",
            "0   Electronic accessories  Female       149     1157.45\n",
            "1   Electronic accessories    Male       184     1792.76\n",
            "2      Fashion accessories  Female       197     2073.40\n",
            "3      Fashion accessories    Male       139     1470.25\n",
            "4       Food and beverages  Female       169     1758.01\n",
            "5       Food and beverages    Male       156     1479.37\n",
            "6        Health and beauty  Female        96     1044.69\n",
            "7        Health and beauty    Male       158     1813.12\n",
            "8       Home and lifestyle  Female       198     1765.37\n",
            "9       Home and lifestyle    Male       144     1571.72\n",
            "10       Sports and travel  Female       210     1929.75\n",
            "11       Sports and travel    Male       165     1898.00\n",
            "             Product line  Quantity  Unit price\n",
            "0  Electronic accessories       333     2950.21\n",
            "1     Fashion accessories       336     3543.65\n",
            "2      Food and beverages       325     3237.38\n",
            "3       Health and beauty       254     2857.81\n",
            "4      Home and lifestyle       342     3337.09\n",
            "5       Sports and travel       375     3827.75\n"
          ]
        }
      ]
    },
    {
      "cell_type": "markdown",
      "source": [
        "## Total sales in febuary by product"
      ],
      "metadata": {
        "id": "8ExxkD0lro1p"
      }
    },
    {
      "cell_type": "code",
      "source": [
        "\n",
        "# Ensure 'Date' column is in datetime format\n",
        "df['Date'] = pd.to_datetime(df['Date'])\n",
        "\n",
        "# Filter data for febuary 2019\n",
        "df_feb_2019 = df[(df['Date'].dt.year == 2019) & (df['Date'].dt.month == 2)]\n",
        "\n",
        "# Group by product line, gender, payment, and month\n",
        "sales_analysis = df_feb_2019.groupby(['Product line', 'Gender', 'Payment', df_feb_2019['Date'].dt.month])[['Quantity', 'Unit price']].sum().reset_index()\n",
        "\n",
        "# for product line sums\n",
        "product_line_sums_feb_2019 = df_feb_2019.groupby(['Product line','Gender'])[['Quantity', 'Unit price']].sum().reset_index()\n",
        "product_line_sums_feb1_2019 = df_feb_2019.groupby('Product line')[['Quantity', 'Unit price']].sum().reset_index()\n",
        "# Display the result\n",
        "print(product_line_sums_feb_2019)\n",
        "print(product_line_sums_feb1_2019)"
      ],
      "metadata": {
        "colab": {
          "base_uri": "https://localhost:8080/"
        },
        "id": "fLqp5LmJsGJj",
        "outputId": "959530a9-5914-470a-fe14-166ff817dfb0"
      },
      "execution_count": 67,
      "outputs": [
        {
          "output_type": "stream",
          "name": "stdout",
          "text": [
            "              Product line  Gender  Quantity  Unit price\n",
            "0   Electronic accessories  Female       191     1739.91\n",
            "1   Electronic accessories    Male       122     1199.03\n",
            "2      Fashion accessories  Female       185     1876.73\n",
            "3      Fashion accessories    Male       110     1840.16\n",
            "4       Food and beverages  Female       190     1898.14\n",
            "5       Food and beverages    Male       159     1469.85\n",
            "6        Health and beauty  Female       140     1263.76\n",
            "7        Health and beauty    Male       126     1222.58\n",
            "8       Home and lifestyle  Female        96      988.72\n",
            "9       Home and lifestyle    Male       109     1111.36\n",
            "10       Sports and travel  Female       149     1552.93\n",
            "11       Sports and travel    Male        77      996.35\n",
            "             Product line  Quantity  Unit price\n",
            "0  Electronic accessories       313     2938.94\n",
            "1     Fashion accessories       295     3716.89\n",
            "2      Food and beverages       349     3367.99\n",
            "3       Health and beauty       266     2486.34\n",
            "4      Home and lifestyle       205     2100.08\n",
            "5       Sports and travel       226     2549.28\n"
          ]
        }
      ]
    },
    {
      "cell_type": "markdown",
      "source": [
        "## Total sales in march by product"
      ],
      "metadata": {
        "id": "0vIw8Y1Jq7Lv"
      }
    },
    {
      "cell_type": "code",
      "source": [
        "\n",
        "# Ensure 'Date' column is in datetime format\n",
        "df['Date'] = pd.to_datetime(df['Date'])\n",
        "\n",
        "# Filter data for march 2019\n",
        "df_mar_2019 = df[(df['Date'].dt.year == 2019) & (df['Date'].dt.month == 3)]\n",
        "\n",
        "# Group by product line, gender, payment, and month\n",
        "sales_analysis = df_mar_2019.groupby(['Product line', 'Gender', 'Payment', df_feb_2019['Date'].dt.month])[['Quantity', 'Unit price']].sum().reset_index()\n",
        "\n",
        "# for product line sums\n",
        "product_line_sums_mar_2019 = df_mar_2019.groupby(['Product line','Gender'])[['Quantity', 'Unit price']].sum().reset_index()\n",
        "product_line_sums_mar1_2019 = df_mar_2019.groupby('Product line')[['Quantity', 'Unit price']].sum().reset_index()\n",
        "# Display the result\n",
        "print(product_line_sums_mar_2019)\n",
        "print(product_line_sums_mar1_2019)"
      ],
      "metadata": {
        "colab": {
          "base_uri": "https://localhost:8080/"
        },
        "id": "iOLhXaOttVvN",
        "outputId": "00a41a24-3690-47f0-813d-83b326633556"
      },
      "execution_count": 69,
      "outputs": [
        {
          "output_type": "stream",
          "name": "stdout",
          "text": [
            "              Product line  Gender  Quantity  Unit price\n",
            "0   Electronic accessories  Female       148     1474.97\n",
            "1   Electronic accessories    Male       177     1739.65\n",
            "2      Fashion accessories  Female       148     1380.46\n",
            "3      Fashion accessories    Male       123     1532.35\n",
            "4       Food and beverages  Female       155     1751.98\n",
            "5       Food and beverages    Male       123     1388.19\n",
            "6        Health and beauty  Female       107      961.26\n",
            "7        Health and beauty    Male       227     2032.47\n",
            "8       Home and lifestyle  Female       204     1768.07\n",
            "9       Home and lifestyle    Male       160     1645.47\n",
            "10       Sports and travel  Female       137     1301.64\n",
            "11       Sports and travel    Male       182     1782.21\n",
            "             Product line  Quantity  Unit price\n",
            "0  Electronic accessories       325     3214.62\n",
            "1     Fashion accessories       271     2912.81\n",
            "2      Food and beverages       278     3140.17\n",
            "3       Health and beauty       334     2993.73\n",
            "4      Home and lifestyle       364     3413.54\n",
            "5       Sports and travel       319     3083.85\n"
          ]
        }
      ]
    },
    {
      "cell_type": "markdown",
      "source": [
        "#final thoughts"
      ],
      "metadata": {
        "id": "CPBNuD8OmvWm"
      }
    },
    {
      "cell_type": "markdown",
      "source": [
        "So for april to be successful we analyse the following things in product lines on the basis of sales\n",
        "\n",
        "1-Electronic accessories in the all 3 months it has been consistent with its units sold with slow growth being shown in last month so little focus can drive it up may be more\n",
        "\n",
        "2-  Fashion accessories has been one of the most profitable items in first 2 months then saw a sudden slump in march we need to focus heavily on fashion to churn more profits\n",
        "\n",
        "3-Food and beverages it has also been more consistent in the sales throughout the 3 months i personally wont recommend giving much focus at this point\n",
        "\n",
        "4-Health and beauty it has been low in sales for almost all in 3 months so its a high priority product line to give focus on and try for 2-3 months to see what the outcome is\n",
        "\n",
        "5-Home and lifestyle-It has been through the highest of highs to the lowest of lows seems like a volatile product line so must kept on high priority too\n",
        "\n",
        "6-Sports and travel-Like Home and Lifestyle it has been through a war so its also should be kept on high priority task marked as a volatile product\n",
        "\n",
        "FOCUS AREAS-Home and lifestyle,Sports and travel,Fashion,Health and beauty"
      ],
      "metadata": {
        "id": "inewa5FQm4Xa"
      }
    }
  ]
}